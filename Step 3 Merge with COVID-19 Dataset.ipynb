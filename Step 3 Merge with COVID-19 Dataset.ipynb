{
  "nbformat": 4,
  "nbformat_minor": 0,
  "metadata": {
    "colab": {
      "name": "Merge.ipynb",
      "private_outputs": true,
      "provenance": [],
      "collapsed_sections": [
        "9g18_GwGtyOw"
      ],
      "mount_file_id": "1K27yfDYXAD1Nf_ZjRJr3bGxbsmfCmFKN",
      "authorship_tag": "ABX9TyOtV+/OJTRkNTpkRjn06ltX",
      "include_colab_link": true
    },
    "kernelspec": {
      "name": "python3",
      "display_name": "Python 3"
    },
    "language_info": {
      "name": "python"
    }
  },
  "cells": [
    {
      "cell_type": "markdown",
      "metadata": {
        "id": "view-in-github",
        "colab_type": "text"
      },
      "source": [
        "<a href=\"https://colab.research.google.com/github/LauraJouLee/Fall2021-TermProject-DigitalHumanities/blob/main/Step%203%20Merge%20with%20COVID-19%20Dataset.ipynb\" target=\"_parent\"><img src=\"https://colab.research.google.com/assets/colab-badge.svg\" alt=\"Open In Colab\"/></a>"
      ]
    },
    {
      "cell_type": "code",
      "metadata": {
        "id": "Spn371qrIZNi"
      },
      "source": [
        "from google.colab import drive\n",
        "drive.mount('/content/drive')"
      ],
      "execution_count": null,
      "outputs": []
    },
    {
      "cell_type": "code",
      "metadata": {
        "id": "tyGJ3mxxIjj2"
      },
      "source": [
        "import pandas as pd"
      ],
      "execution_count": null,
      "outputs": []
    },
    {
      "cell_type": "code",
      "metadata": {
        "id": "S3lAGJ69n_o_"
      },
      "source": [
        "billboardhot100 = pd.read_csv('/content/drive/MyDrive/Colab Notebooks/DH_Final_Hot100.csv')\n",
        "spotifyerror = pd.read_csv('/content/drive/MyDrive/Colab Notebooks/Spotify_error_track_merged.csv')\n",
        "spotifynonerror = pd.read_csv('/content/drive/MyDrive/Colab Notebooks/Spotify_nonerror_track_merged_2.csv')\n",
        "\n",
        "len(list(spotifyerror['id'])) + len(list(spotifynonerror['id'])) #, len(list(billboardhot100['link']))\n"
      ],
      "execution_count": null,
      "outputs": []
    },
    {
      "cell_type": "code",
      "metadata": {
        "id": "A2hul8CuL80J"
      },
      "source": [
        "r = billboardhot100.loc[billboardhot100['rank'] == 68]\n",
        "r.loc[r['date']== '2021-09-25']"
      ],
      "execution_count": null,
      "outputs": []
    },
    {
      "cell_type": "code",
      "metadata": {
        "id": "BNudRdqptvcw"
      },
      "source": [
        "spotifynonerror= spotifynonerror.rename(columns={'track_list': 'track'})\n",
        "#spotifyerror.columns, spotifynonerror.columns\n",
        "\n",
        "Spotify_audio_features = pd.concat([spotifyerror, spotifynonerror], axis=0).drop(columns='Unnamed: 0')\n",
        "Spotify_audio_features.drop_duplicates()#.to_csv('Spotify_audio_features.csv')\n",
        "\n",
        "Spotify_audio_features.loc[Spotify_audio_features['track'] == 'Better Days']\n"
      ],
      "execution_count": null,
      "outputs": []
    },
    {
      "cell_type": "code",
      "metadata": {
        "id": "oKGNCNsW5pOY"
      },
      "source": [
        "billboardhot100.merge(Spotify_audio_features.drop_duplicates(), left_on='song', right_on='track', how='inner')"
      ],
      "execution_count": null,
      "outputs": []
    },
    {
      "cell_type": "markdown",
      "metadata": {
        "id": "9g18_GwGtyOw"
      },
      "source": [
        "# **Data Cleaning**\n",
        "### Check Billboard Duplicate"
      ]
    },
    {
      "cell_type": "code",
      "metadata": {
        "id": "Y9sNhqtF47Q8"
      },
      "source": [
        "#generate new artist column without specific char\n",
        "\n",
        "toBeReplace = ['(', ':', '.', ', ']\n",
        "song_replaced = []\n",
        "l=[]\n",
        "\n",
        "for a in list(billboardhot100['song']):\n",
        "  song_replaced.append(a)\n",
        "\n",
        "for elem in toBeReplace:\n",
        "    # Check if string is in the main string\n",
        "    for k,v in enumerate(song_replaced):\n",
        "        if elem in v:\n",
        "            # Replace the string\n",
        "            song_replaced[k] = v.split(elem)[0]\n",
        "\n",
        "[l.append(x.lower()) for x in song_replaced]\n",
        "\n",
        "billboardhot100['track_replaced_lowercase']= l\n",
        "len(billboardhot100)"
      ],
      "execution_count": null,
      "outputs": []
    },
    {
      "cell_type": "code",
      "metadata": {
        "id": "PnVvo5ku2Qe3"
      },
      "source": [
        "billboardhot100 = billboardhot100.drop(columns=['Unnamed: 0'])\n",
        "spotifyerror = spotifyerror.drop(columns=['Unnamed: 0'])\n",
        "spotifynonerror = spotifynonerror.drop(columns=['Unnamed: 0'])\n",
        "\n"
      ],
      "execution_count": null,
      "outputs": []
    },
    {
      "cell_type": "code",
      "metadata": {
        "id": "nBBvyrVZZv4Q"
      },
      "source": [
        "spotifyerror_nodup = spotifyerror.drop_duplicates().reset_index().drop(columns=['index'])\n",
        "spotifynonerror_nodup = spotifynonerror.drop_duplicates().reset_index().drop(columns=['index'])\n",
        "spotify_nodup = pd.concat([spotifyerror_nodup,spotifynonerror_nodup], axis=0).reset_index()"
      ],
      "execution_count": null,
      "outputs": []
    },
    {
      "cell_type": "code",
      "metadata": {
        "id": "MJ71W7--oghp"
      },
      "source": [
        "track_replaced=[]\n",
        "l2=[]\n",
        "\n",
        "for i in list(spotify_nodup['track'].apply(str)):\n",
        "  track_replaced.append(i)\n",
        "\n",
        "for elem in toBeReplace:\n",
        "    # Check if string is in the main string\n",
        "    for k,v in enumerate(track_replaced):\n",
        "        if elem in v:\n",
        "            # Replace the string\n",
        "            track_replaced[k] = v.split(elem)[0]\n",
        "\n",
        "[l2.append(x.lower()) for x in track_replaced]\n",
        "\n",
        "spotify_nodup['track_replaced_lowercase']= l2\n",
        "len(spotify_nodup)"
      ],
      "execution_count": null,
      "outputs": []
    },
    {
      "cell_type": "code",
      "metadata": {
        "id": "HZ9LwHRW9acA"
      },
      "source": [
        "spotify_nodup"
      ],
      "execution_count": null,
      "outputs": []
    },
    {
      "cell_type": "code",
      "metadata": {
        "id": "N1v0IqNw6ZwC"
      },
      "source": [
        ""
      ],
      "execution_count": null,
      "outputs": []
    },
    {
      "cell_type": "markdown",
      "metadata": {
        "id": "W09DpliKUFUR"
      },
      "source": [
        "# **Data Cleaning**\n",
        "### Clean original data from Our World of Data and select the needed columns\n",
        "### Original Dataset Github Link: https://github.com/owid/covid-19-data/blob/285623e2b71d0039f1329b6002bc9c202d279281/public/data/owid-covid-data.csv"
      ]
    },
    {
      "cell_type": "code",
      "source": [
        "covid_daily = pd.read_csv('/content/drive/MyDrive/Colab Notebooks/owid-covid-data.csv')\n",
        "covid_daily = covid_daily[covid_daily['iso_code']=='USA'].reset_index()\n",
        "covid_daily = covid_daily.drop(['index','iso_code','continent','location'], axis=1)\n",
        "covid = covid_daily.dropna(axis=1, how='all')"
      ],
      "metadata": {
        "id": "yGqrkx1TGVZb"
      },
      "execution_count": null,
      "outputs": []
    },
    {
      "cell_type": "code",
      "metadata": {
        "id": "pG4dHOhqUEGx"
      },
      "source": [
        "covid['date'] = pd.to_datetime(covid['date'])\n",
        "covid1 = covid.resample('W', on='date')['new_cases','new_deaths_smoothed','new_tests_smoothed','people_fully_vaccinated','new_vaccinations'].sum().reset_index()\n"
      ],
      "execution_count": null,
      "outputs": []
    },
    {
      "cell_type": "code",
      "metadata": {
        "id": "xP5QGWeLUR9H"
      },
      "source": [
        "covid1['date'] = covid1['date'] - pd.to_timedelta(1, unit='d')"
      ],
      "execution_count": null,
      "outputs": []
    },
    {
      "cell_type": "code",
      "metadata": {
        "id": "ZRQtHeqDWFkm"
      },
      "source": [
        "covid1.to_csv('covid_by_week.csv')"
      ],
      "execution_count": null,
      "outputs": []
    },
    {
      "cell_type": "markdown",
      "source": [
        "# **Data Analysis**\n",
        "### Linear Regression"
      ],
      "metadata": {
        "id": "jmUZVeB0FWzA"
      }
    },
    {
      "cell_type": "code",
      "metadata": {
        "id": "1AadqTYtY64h"
      },
      "source": [
        "import statistics\n",
        "import datetime\n",
        "\n",
        "clean0 = pd.read_excel('/content/BB&Spotify.xlsx')\n",
        "clean = clean0.groupby('date').mean().drop(columns=['rank']).merge(covid1, on='date', how='left')\n",
        "\n",
        "clean['year']= clean['date'].dt.year\n",
        "clean['month']= clean['date'].dt.month\n",
        "clean['week_number'] = clean['date'].dt.week\n",
        "\n",
        "model = clean.drop(['date'], axis=1)\n"
      ],
      "execution_count": null,
      "outputs": []
    },
    {
      "cell_type": "code",
      "metadata": {
        "id": "jeVUAqq1ipkS"
      },
      "source": [
        "import statsmodels.formula.api as sm\n",
        "\n",
        "r = sm.ols('valence ~ new_cases\t+ new_vaccinations + month*year ', data=model).fit()\n",
        "result = r.summary()\n",
        "\n",
        "result"
      ],
      "execution_count": null,
      "outputs": []
    }
  ]
}