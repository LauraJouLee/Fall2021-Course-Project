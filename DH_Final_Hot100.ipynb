{
  "nbformat": 4,
  "nbformat_minor": 0,
  "metadata": {
    "kernelspec": {
      "display_name": "Python 3",
      "language": "python",
      "name": "python3"
    },
    "language_info": {
      "codemirror_mode": {
        "name": "ipython",
        "version": 3
      },
      "file_extension": ".py",
      "mimetype": "text/x-python",
      "name": "python",
      "nbconvert_exporter": "python",
      "pygments_lexer": "ipython3",
      "version": "3.8.3"
    },
    "colab": {
      "name": "DH Final Hot100.ipynb",
      "provenance": [],
      "include_colab_link": true
    }
  },
  "cells": [
    {
      "cell_type": "markdown",
      "metadata": {
        "id": "view-in-github",
        "colab_type": "text"
      },
      "source": [
        "<a href=\"https://colab.research.google.com/github/LauraJouLee/Fall2021-Course-Project/blob/main/DH_Final_Hot100.ipynb\" target=\"_parent\"><img src=\"https://colab.research.google.com/assets/colab-badge.svg\" alt=\"Open In Colab\"/></a>"
      ]
    },
    {
      "cell_type": "code",
      "metadata": {
        "colab": {
          "base_uri": "https://localhost:8080/"
        },
        "id": "1jmjqz7qMrPB",
        "outputId": "27b6a2fb-62ce-425f-ce8e-eb8b9b5befc2"
      },
      "source": [
        "pip install beautifulsoup4 pandas lxml future"
      ],
      "execution_count": null,
      "outputs": [
        {
          "output_type": "stream",
          "name": "stdout",
          "text": [
            "Requirement already satisfied: beautifulsoup4 in /usr/local/lib/python3.7/dist-packages (4.6.3)\n",
            "Requirement already satisfied: pandas in /usr/local/lib/python3.7/dist-packages (1.1.5)\n",
            "Requirement already satisfied: lxml in /usr/local/lib/python3.7/dist-packages (4.2.6)\n",
            "Requirement already satisfied: future in /usr/local/lib/python3.7/dist-packages (0.16.0)\n",
            "Requirement already satisfied: numpy>=1.15.4 in /usr/local/lib/python3.7/dist-packages (from pandas) (1.19.5)\n",
            "Requirement already satisfied: python-dateutil>=2.7.3 in /usr/local/lib/python3.7/dist-packages (from pandas) (2.8.2)\n",
            "Requirement already satisfied: pytz>=2017.2 in /usr/local/lib/python3.7/dist-packages (from pandas) (2018.9)\n",
            "Requirement already satisfied: six>=1.5 in /usr/local/lib/python3.7/dist-packages (from python-dateutil>=2.7.3->pandas) (1.15.0)\n"
          ]
        }
      ]
    },
    {
      "cell_type": "code",
      "metadata": {
        "id": "M_5q6RHKMrPG"
      },
      "source": [
        "import requests\n",
        "import pandas as pd\n",
        "from bs4 import BeautifulSoup as bs\n",
        "from datetime import datetime, date, timedelta\n",
        "\n",
        "\n",
        "URL = 'https://www.billboard.com/charts/hot-100/'\n",
        "\n",
        "date_datum = date(2021,11,6)\n",
        "\n",
        "link_list = []\n",
        "date_list = []\n",
        "\n",
        "for year in range(2019,2022): \n",
        "    if year == 2021:\n",
        "        week_count_i = (abs(date_datum - date(year, 1, 1)).days)//7\n",
        "        for i in range(0, week_count_i):\n",
        "            link = URL + (str(date_datum - timedelta(7)*i))\n",
        "            link_list.append(link)\n",
        "            date_list.append(str(date_datum - timedelta(7)*i))\n",
        "    else :\n",
        "        week_count_j = (abs(date(year,12,31)-date(year, 1, 1)).days)//7\n",
        "        for j in range(0, week_count_j):\n",
        "            link = URL + (str(date(year,12,31) - timedelta(7)*j))\n",
        "            link_list.append(link)\n",
        "            date_list.append(str(date(year,12,31) - timedelta(7)*j))\n",
        "\n",
        "\n",
        "pd.set_option('display.max_colwidth', None) #show full link\n",
        "link = pd.DataFrame({'link': link_list, 'date': date_list})\n",
        "\n",
        "link_chart = pd.concat([link], ignore_index=True).sort_values('date').reset_index(drop=True)\n"
      ],
      "execution_count": null,
      "outputs": []
    },
    {
      "cell_type": "code",
      "metadata": {
        "id": "lLmT6b56MrPJ"
      },
      "source": [
        "import re\n",
        "\n",
        "date_list = []\n",
        "rank_list = []\n",
        "song_list = []\n",
        "artist_list = []\n",
        "\n",
        "\n",
        "for url in link_list:\n",
        "    req = requests.get(url)\n",
        "    soup = bs(req.text, 'html.parser')\n",
        "\n",
        "    for date in soup.find_all('link', href=re.compile('^/charts/hot-100/')):\n",
        "        date_text = str(date.get('href')).replace('/charts/hot-100/','')  \n",
        "        date_list.append(date_text)\n",
        "        \n",
        "    for rank in soup.find_all('span','chart-element__rank__number'):\n",
        "        rank_list.append(str(rank.get_text()))\n",
        "        \n",
        "    for song in soup.find_all('span','chart-element__information__song text--truncate color--primary'):\n",
        "        song_list.append(str(song.get_text()))\n",
        "        \n",
        "    for artist in soup.find_all('span','chart-element__information__artist text--truncate color--secondary'):\n",
        "        artist_list.append(str(artist.get_text()))\n",
        "\n",
        "\n",
        "date_full_list =  [d for d in date_list for i in range(100)]\n",
        "      \n",
        "chart = pd.DataFrame(\n",
        "    {'date': date_full_list, \n",
        "     'rank': rank_list, \n",
        "     'song': song_list, \n",
        "     'artist': artist_list})\n",
        "\n",
        "\n",
        "DH_Final_Hot100 = pd.merge(link_chart,chart, on = 'date') #value in both 'date' must be the same == str"
      ],
      "execution_count": null,
      "outputs": []
    },
    {
      "cell_type": "code",
      "metadata": {
        "id": "3w-506exMrPK"
      },
      "source": [
        "DH_Final_Hot100.to_csv('DH_Final_Hot100.csv')"
      ],
      "execution_count": null,
      "outputs": []
    },
    {
      "cell_type": "code",
      "metadata": {
        "colab": {
          "base_uri": "https://localhost:8080/"
        },
        "id": "GMd4PhPPHr0F",
        "outputId": "70568c47-8cd0-4683-f6d9-c7e13c9cb747"
      },
      "source": [
        "from google.colab import drive\n",
        "drive.mount('/content/drive')"
      ],
      "execution_count": null,
      "outputs": [
        {
          "output_type": "stream",
          "name": "stdout",
          "text": [
            "Mounted at /content/drive\n"
          ]
        }
      ]
    }
  ]
}