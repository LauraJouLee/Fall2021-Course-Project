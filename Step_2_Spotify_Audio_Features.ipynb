{
  "nbformat": 4,
  "nbformat_minor": 0,
  "metadata": {
    "colab": {
      "name": "Step 2-Spotify Audio Features.ipynb",
      "private_outputs": true,
      "provenance": [],
      "authorship_tag": "ABX9TyObzLkL5fdwz6zPElZV1sZr",
      "include_colab_link": true
    },
    "kernelspec": {
      "name": "python3",
      "display_name": "Python 3"
    },
    "language_info": {
      "name": "python"
    }
  },
  "cells": [
    {
      "cell_type": "markdown",
      "metadata": {
        "id": "view-in-github",
        "colab_type": "text"
      },
      "source": [
        "<a href=\"https://colab.research.google.com/github/LauraJouLee/Fall2021-TermProject-DigitalHumanities/blob/main/Step_2_Spotify_Audio_Features.ipynb\" target=\"_parent\"><img src=\"https://colab.research.google.com/assets/colab-badge.svg\" alt=\"Open In Colab\"/></a>"
      ]
    },
    {
      "cell_type": "code",
      "execution_count": null,
      "metadata": {
        "id": "qRgoB1X-8yXQ"
      },
      "outputs": [],
      "source": [
        "pip install spotipy --upgrade"
      ]
    },
    {
      "cell_type": "code",
      "source": [
        "from google.colab import drive\n",
        "drive.mount('/content/drive')"
      ],
      "metadata": {
        "id": "R_b8G0258zT1"
      },
      "execution_count": null,
      "outputs": []
    },
    {
      "cell_type": "code",
      "source": [
        "from __future__ import print_function\n",
        "import spotipy\n",
        "import spotipy.util as util\n",
        "import sys\n",
        "#from spotipy.oauth2 import SpotifyOAuth\n",
        "from spotipy.oauth2 import SpotifyClientCredentials\n",
        "import pandas as pd\n",
        "import numpy as np"
      ],
      "metadata": {
        "id": "40tgOIe9Ae-g"
      },
      "execution_count": null,
      "outputs": []
    },
    {
      "cell_type": "markdown",
      "source": [
        "#### You have to create a DASHBOARD to get the required CLIENT_ID and Client_SECRET code\n",
        "#### Spotify Developer Dashboard Link: https://developer.spotify.com/dashboard/\n",
        "\n",
        "# Authorization Code Flow\n",
        "\n",
        "### To support the Authorization Code Flow Spotipy provides a utility method util.prompt_for_user_token that will attempt to authorize the user. \n",
        "\n",
        "\n",
        "```\n",
        "scope = 'user-read-private'\n",
        "token = util.prompt_for_user_token('lauraleetaiwan', scope, \n",
        "client_id='b9ab0fc630594519a6cbde985f51d242',client_secret='59a63526f72e43f5a46b0a06e104ce5e',redirect_uri='http://localhost:8080/')\n",
        "sp = spotipy.Spotify(auth=token)\n",
        "```\n",
        "\n",
        "\n",
        "\n",
        "\n",
        "# Client Credentials Flow\n",
        "### Client credentials flow is appropriate for requests that do not require access to a user’s private data. Even if you are only making calls that do not require authorization, using this flow yields the benefit of a higher rate limit\n",
        "\n",
        "\n",
        "\n",
        "```\n",
        "client_credentials_manager = SpotifyClientCredentials(client_id='b9ab0fc630594519a6cbde985f51d242',client_secret='59a63526f72e43f5a46b0a06e104ce5e')\n",
        "sp = spotipy.Spotify(client_credentials_manager=client_credentials_manager)\n",
        "```"
      ],
      "metadata": {
        "id": "elUp6JP785dK"
      }
    },
    {
      "cell_type": "code",
      "source": [
        "## set Authorization and get token\n",
        "\n",
        "client_credentials_manager = SpotifyClientCredentials(client_id='b9ab0fc630594519a6cbde985f51d242',client_secret='59a63526f72e43f5a46b0a06e104ce5e')\n",
        "sp = spotipy.Spotify(client_credentials_manager=client_credentials_manager)"
      ],
      "metadata": {
        "id": "ZLfIC-LR82OB"
      },
      "execution_count": null,
      "outputs": []
    },
    {
      "cell_type": "code",
      "metadata": {
        "id": "s4uI5ut3NY_G"
      },
      "source": [
        "##Clean data from Billboard\n",
        "Billboard_Hot100 = pd.read_csv('/content/drive/MyDrive/Colab Notebooks/DH_Final_Hot100.csv')\n",
        "\n",
        "artist_list=[]\n",
        "song_list=[]\n",
        "\n",
        "a_toBeReplace = ['Featuring', ' X ', ' x ', ' & ', ' + ', ', ']\n",
        "s_toBeReplace = ['(', ':', '.', ', ']\n",
        "\n",
        "for artist in Billboard_Hot100['artist']:\n",
        "    artist_list.append(artist)\n",
        "\n",
        "for elem in a_toBeReplace :\n",
        "    # Check if string is in the main string\n",
        "    for k,v in enumerate(artist_list):\n",
        "        if elem in v:\n",
        "            # Replace the string\n",
        "            artist_list[k] = v.replace(elem, ' ')\n",
        "\n",
        "for song in Billboard_Hot100['song']:\n",
        "    song_list.append(song)\n",
        "\n",
        "for elem in s_toBeReplace :\n",
        "    # Check if string is in the main string\n",
        "    for k,v in enumerate(song_list):\n",
        "        if elem in v:\n",
        "            # Replace the string\n",
        "            song_list[k] = v.replace(elem, ' ')\n",
        "\n"
      ],
      "execution_count": null,
      "outputs": []
    },
    {
      "cell_type": "markdown",
      "metadata": {
        "id": "NX3_7-jsNY_H"
      },
      "source": [
        "# Get Spotify Track ID\n",
        "\n",
        "### Output\n",
        "1. artist, track, track_id\n",
        "2. error list: no track_id output >> add manually\n"
      ]
    },
    {
      "cell_type": "code",
      "metadata": {
        "id": "HTBWQ9wVNY_I"
      },
      "source": [
        "track_id_list=[]\n",
        "error_artist=[]\n",
        "error_track=[]\n",
        "\n",
        "\n",
        "#search from list\n",
        "for i , j in enumerate(artist_list):\n",
        "    for m ,n in enumerate(song_list):\n",
        "        if i== m:\n",
        "            search_output = sp.search(q='artist:' + j + ' track:' + n, type='track')\n",
        "            \n",
        "            try :\n",
        "                search_output = pd.DataFrame(search_output['tracks'])\n",
        "                search_output = search_output['items'][0]                \n",
        "                track_id_list.append(search_output.get('id'))\n",
        "                \n",
        "            except:\n",
        "                error_artist.append(j)\n",
        "                error_track.append(n)\n"
      ],
      "execution_count": null,
      "outputs": []
    },
    {
      "cell_type": "code",
      "metadata": {
        "id": "VYArsy32NY_a"
      },
      "source": [
        "#view error outputs with no duplicate values\n",
        "\n",
        "for (a,b) in zip(error_artist,error_track):\n",
        "    pd.DataFrame({'error_artist':error_artist,'error_track': error_track}).to_csv('Spotify_error_list.csv')\n"
      ],
      "execution_count": null,
      "outputs": []
    },
    {
      "cell_type": "code",
      "metadata": {
        "id": "9uZzAMVBNY_a"
      },
      "source": [
        "##get audio features\n",
        "artist_name_list=[]\n",
        "artist_genres_list=[]\n",
        "track_list=[]\n",
        "audio_feature_list=[]\n",
        "\n",
        "for track_id in track_id_list:\n",
        "    artist_name_list.append(sp.track(track_id)['album']['artists'][0]['name'])\n",
        "    artist_genres_list.append(sp.artist(sp.track(track_id)['album']['artists'][0]['id'])['genres'])\n",
        "    track_list.append(sp.track(track_id)['name'])\n",
        "    audio_feature_list.append(sp.audio_features(track_id)[0])\n",
        "\n"
      ],
      "execution_count": null,
      "outputs": []
    },
    {
      "cell_type": "code",
      "metadata": {
        "id": "QFuuIVoTLjPG"
      },
      "source": [
        "track_info = pd.DataFrame({\n",
        "    #'artist_id' : artist_id_list,\n",
        "    'artist_name' : artist_name_list, \n",
        "    'artist_genres' : artist_genres_list,\n",
        "    #'album_id' : album_id_list, \n",
        "    #'album_name': album_name_list, \n",
        "    'track_list': track_list})\n",
        "\n",
        "\n",
        "track_info = track_info.loc[track_info.astype(str).index]\n",
        "audio_feature = pd.DataFrame(audio_feature_list)  \n",
        "\n",
        "track_info.join(audio_feature).to_csv('Spotify_nonerror_track_merged_2.csv')\n"
      ],
      "execution_count": null,
      "outputs": []
    },
    {
      "cell_type": "code",
      "metadata": {
        "id": "suq2nfJ2kQ1I"
      },
      "source": [
        "##check error\n",
        "len(error_list)"
      ],
      "execution_count": null,
      "outputs": []
    }
  ]
}